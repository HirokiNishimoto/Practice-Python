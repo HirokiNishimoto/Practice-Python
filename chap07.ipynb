{
 "cells": [
  {
   "cell_type": "markdown",
   "metadata": {},
   "source": [
    "## 7.1 内部状態を持つオブジェクト"
   ]
  },
  {
   "cell_type": "code",
   "execution_count": 13,
   "metadata": {},
   "outputs": [],
   "source": [
    "class ClockTimer:\n",
    "    def __init__(self, hour, minute, second):\n",
    "        self.__hour = hour\n",
    "        self.__minute = minute\n",
    "        self.__second = second\n",
    "        \n",
    "    def hour(self):\n",
    "        print(self.__hour)\n",
    "    def minute(self):\n",
    "        print(self.__minute)\n",
    "    def second(self):\n",
    "        print(self.__second)\n",
    "    def tick(self):\n",
    "        self.__second += 1\n",
    "        if self.__second==60:\n",
    "            self.__second=0\n",
    "            self.__minute+=1\n",
    "        if self.__minute==60:\n",
    "            self.__minute=0\n",
    "            self.__hour+=1\n",
    "        if self.__hour==24:\n",
    "            self.__hour=0"
   ]
  },
  {
   "cell_type": "code",
   "execution_count": 170,
   "metadata": {},
   "outputs": [],
   "source": [
    "class Counter:\n",
    "    def __init__(self):\n",
    "        self.__counter = 0\n",
    "    def increment(self):\n",
    "        self.__counter += 1\n",
    "    def count(self):\n",
    "        print(self.__counter)\n",
    "\n",
    "class Fib:\n",
    "    def __init__(self):\n",
    "        self.__counter = Counter()\n",
    "        self.__memo = [0]+[-1]*1000\n",
    "    def fib(self,n):            \n",
    "        if self.__memo[n] == -1:\n",
    "            self.__counter.increment()\n",
    "            if n==0:\n",
    "                return 0\n",
    "            elif n==1:\n",
    "                return 1\n",
    "            else:\n",
    "                self.__memo[n] = self.fib(n-1) + self.fib(n-2)\n",
    "        return self.__memo[n]\n",
    "    def count(self):\n",
    "        self.__counter.count()"
   ]
  },
  {
   "cell_type": "code",
   "execution_count": null,
   "metadata": {},
   "outputs": [],
   "source": []
  }
 ],
 "metadata": {
  "kernelspec": {
   "display_name": "Python 3",
   "language": "python",
   "name": "python3"
  },
  "language_info": {
   "codemirror_mode": {
    "name": "ipython",
    "version": 3
   },
   "file_extension": ".py",
   "mimetype": "text/x-python",
   "name": "python",
   "nbconvert_exporter": "python",
   "pygments_lexer": "ipython3",
   "version": "3.6.6"
  }
 },
 "nbformat": 4,
 "nbformat_minor": 2
}
