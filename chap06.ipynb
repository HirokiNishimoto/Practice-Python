{
 "cells": [
  {
   "cell_type": "markdown",
   "metadata": {},
   "source": [
    "## 6.1 階層的構造"
   ]
  },
  {
   "cell_type": "code",
   "execution_count": 1,
   "metadata": {},
   "outputs": [],
   "source": [
    "def make_node(num, left, right):\n",
    "    return [num, left, right]"
   ]
  },
  {
   "cell_type": "code",
   "execution_count": 2,
   "metadata": {},
   "outputs": [],
   "source": [
    "def value(tree):\n",
    "    return tree[0]"
   ]
  },
  {
   "cell_type": "code",
   "execution_count": 3,
   "metadata": {},
   "outputs": [],
   "source": [
    "def left(tree):\n",
    "    return tree[1]"
   ]
  },
  {
   "cell_type": "code",
   "execution_count": 4,
   "metadata": {},
   "outputs": [],
   "source": [
    "def right(tree):\n",
    "    return tree[2]"
   ]
  },
  {
   "cell_type": "code",
   "execution_count": 5,
   "metadata": {},
   "outputs": [],
   "source": [
    "EmptyTree = None\n",
    "def is_empty(tree):\n",
    "    return tree == EmptyTree"
   ]
  },
  {
   "cell_type": "code",
   "execution_count": 6,
   "metadata": {},
   "outputs": [],
   "source": [
    "def make_leaf(num):\n",
    "    return make_node(num, EmptyTree, EmptyTree)"
   ]
  },
  {
   "cell_type": "code",
   "execution_count": 7,
   "metadata": {},
   "outputs": [],
   "source": [
    "t0 = make_leaf(2)\n",
    "t1 = make_node(1, make_leaf(3), make_leaf(5))\n",
    "t2 = make_node(3, t1, t0)"
   ]
  },
  {
   "cell_type": "code",
   "execution_count": 8,
   "metadata": {},
   "outputs": [
    {
     "data": {
      "text/plain": [
       "5"
      ]
     },
     "execution_count": 8,
     "metadata": {},
     "output_type": "execute_result"
    }
   ],
   "source": [
    "def count_node(tree):\n",
    "    if is_empty(tree):\n",
    "        return 0\n",
    "    else:\n",
    "        return 1 + count_node(left(tree)) + count_node(right(tree))\n",
    "count_node(t2)"
   ]
  },
  {
   "cell_type": "code",
   "execution_count": 9,
   "metadata": {},
   "outputs": [
    {
     "data": {
      "text/plain": [
       "14"
      ]
     },
     "execution_count": 9,
     "metadata": {},
     "output_type": "execute_result"
    }
   ],
   "source": [
    "def sum_node(tree):\n",
    "    if is_empty(tree):\n",
    "        return 0\n",
    "    else:\n",
    "        return value(tree) + sum_node(left(tree)) + sum_node(right(tree))\n",
    "sum_node(t2)"
   ]
  },
  {
   "cell_type": "code",
   "execution_count": 10,
   "metadata": {},
   "outputs": [],
   "source": [
    "def max_value(tree):\n",
    "    if is_empty(tree):\n",
    "        return 0\n",
    "    return max(value(tree), max_value(left(tree)), max_value(right(tree)))"
   ]
  },
  {
   "cell_type": "code",
   "execution_count": 11,
   "metadata": {},
   "outputs": [
    {
     "data": {
      "text/plain": [
       "5"
      ]
     },
     "execution_count": 11,
     "metadata": {},
     "output_type": "execute_result"
    }
   ],
   "source": [
    "max_value(t2)"
   ]
  },
  {
   "cell_type": "code",
   "execution_count": 12,
   "metadata": {},
   "outputs": [],
   "source": [
    "def preorder(tree):\n",
    "    if is_empty(tree):\n",
    "        return []\n",
    "    else:\n",
    "        return [value(tree)] + preorder(left(tree)) + preorder(right(tree))"
   ]
  },
  {
   "cell_type": "code",
   "execution_count": 13,
   "metadata": {},
   "outputs": [
    {
     "data": {
      "text/plain": [
       "[3, 1, 3, 5, 2]"
      ]
     },
     "execution_count": 13,
     "metadata": {},
     "output_type": "execute_result"
    }
   ],
   "source": [
    "preorder(t2)"
   ]
  },
  {
   "cell_type": "code",
   "execution_count": 14,
   "metadata": {},
   "outputs": [],
   "source": [
    "def inorder(tree):\n",
    "    if is_empty(tree):\n",
    "        return []\n",
    "    else:\n",
    "        return inorder(left(tree)) + [value(tree)] + inorder(right(tree))"
   ]
  },
  {
   "cell_type": "code",
   "execution_count": 15,
   "metadata": {},
   "outputs": [
    {
     "data": {
      "text/plain": [
       "[3, 1, 5, 3, 2]"
      ]
     },
     "execution_count": 15,
     "metadata": {},
     "output_type": "execute_result"
    }
   ],
   "source": [
    "inorder(t2)"
   ]
  },
  {
   "cell_type": "code",
   "execution_count": 16,
   "metadata": {},
   "outputs": [],
   "source": [
    "def add_node(tree, x):\n",
    "    if is_empty(tree):\n",
    "        return make_leaf(x)\n",
    "    elif x < value(tree):\n",
    "        return [value(tree), add_node(left(tree), x), right(tree)] \n",
    "    else:\n",
    "        return [value(tree), left(tree), add_node(right(tree), x)] "
   ]
  },
  {
   "cell_type": "code",
   "execution_count": 17,
   "metadata": {},
   "outputs": [],
   "source": [
    "def make_binary_search_tree(a):\n",
    "    tree = EmptyTree\n",
    "    for x in  a:\n",
    "        tree = add_node(tree, x)\n",
    "    return tree"
   ]
  },
  {
   "cell_type": "code",
   "execution_count": 18,
   "metadata": {},
   "outputs": [],
   "source": [
    "t = make_binary_search_tree([3,1,6,1,7,9,2,0,5])"
   ]
  },
  {
   "cell_type": "code",
   "execution_count": 19,
   "metadata": {},
   "outputs": [
    {
     "data": {
      "text/plain": [
       "9"
      ]
     },
     "execution_count": 19,
     "metadata": {},
     "output_type": "execute_result"
    }
   ],
   "source": [
    "count_node(t)"
   ]
  },
  {
   "cell_type": "code",
   "execution_count": 20,
   "metadata": {
    "scrolled": true
   },
   "outputs": [
    {
     "data": {
      "text/plain": [
       "[0, 1, 1, 2, 3, 5, 6, 7, 9]"
      ]
     },
     "execution_count": 20,
     "metadata": {},
     "output_type": "execute_result"
    }
   ],
   "source": [
    "inorder(t)"
   ]
  },
  {
   "cell_type": "code",
   "execution_count": 21,
   "metadata": {},
   "outputs": [],
   "source": [
    "# Q&A\n",
    "def make_question(question, yes_branch, no_branch):\n",
    "    return [question, yes_branch, no_branch]\n",
    "\n",
    "def make_answer_node(answer):\n",
    "    return [answer, EmptyTree, EmptyTree]\n",
    "    \n",
    "def question_text(qnode):\n",
    "    return value(qnode)\n",
    "    \n",
    "def question_yes(qnode):\n",
    "    return left(qnode)\n",
    "    \n",
    "def question_no(qnode):\n",
    "    return right(qnode)\n",
    "    \n",
    "def answer_text(anode):\n",
    "    return value(anode)\n",
    "    \n",
    "def is_question_node(node):\n",
    "    return not is_empty(left(node))\n",
    "    \n",
    "def display(node):\n",
    "    if is_question_node(node):\n",
    "        # 質問の場合，質問文を表示して y/n をキーボードから読み込む \n",
    "        print(\"Q: \"+question_text(node)+ \" ? [yn]\")\n",
    "        yn = input()\n",
    "        if yn.lower()[0] == \"y\":\n",
    "            display(question_yes(node)) \n",
    "        else:\n",
    "            display(question_no(node))\n",
    "    else:\n",
    "        # 答えの場合，メッセージを表示する \n",
    "        print(\"---\")\n",
    "        print(\"Answer: \" + answer_text(node))"
   ]
  },
  {
   "cell_type": "code",
   "execution_count": 22,
   "metadata": {},
   "outputs": [
    {
     "name": "stdout",
     "output_type": "stream",
     "text": [
      "Q: hungry? ? [yn]\n",
      "y\n",
      "---\n",
      "Answer: cip noodle\n"
     ]
    }
   ],
   "source": [
    "t1 = make_question(\"hungry?\", make_answer_node(\"cip noodle\"), make_answer_node(\"take a nap\"))\n",
    "display(t1)"
   ]
  },
  {
   "cell_type": "code",
   "execution_count": 23,
   "metadata": {},
   "outputs": [
    {
     "name": "stdout",
     "output_type": "stream",
     "text": [
      "Q: 駒場の理系? ? [yn]\n",
      "y\n",
      "Q: 学際科学科所属? ? [yn]\n",
      "n\n",
      "---\n",
      "Answer: 統合自然科学科\n"
     ]
    }
   ],
   "source": [
    "t2 = make_question(\"駒場の理系?\",\n",
    "                  make_question(\"学際科学科所属?\"\n",
    "                               ,make_question(\"この授業は必修?\",\n",
    "                                             make_answer_node(\"総合情報学コース\"),\n",
    "                                             make_answer_node(\"広域システムコース\")),\n",
    "                               make_answer_node(\"統合自然科学科\")),\n",
    "                  make_answer_node(\"本郷生or文系\"))\n",
    "display(t2)"
   ]
  },
  {
   "cell_type": "code",
   "execution_count": 24,
   "metadata": {},
   "outputs": [],
   "source": [
    "# 四則演算\n",
    "def calc(tree):\n",
    "    if is_empty(tree):\n",
    "        return 0\n",
    "    else:\n",
    "        if value(tree) == \"+\":\n",
    "            return calc(left(tree)) + calc(right(tree))\n",
    "        elif value(tree) == \"-\":\n",
    "            return calc(left(tree)) - calc(right(tree))\n",
    "        elif value(tree) == \"*\":\n",
    "            return calc(left(tree)) * calc(right(tree))\n",
    "        elif value(tree) == \"/\":\n",
    "            return calc(left(tree)) / calc(right(tree))\n",
    "        else:\n",
    "            return value(tree)"
   ]
  },
  {
   "cell_type": "code",
   "execution_count": 25,
   "metadata": {},
   "outputs": [],
   "source": [
    "t = make_node(\"+\", make_node(\"*\", make_leaf(3), make_leaf(5)), make_leaf(2))"
   ]
  },
  {
   "cell_type": "code",
   "execution_count": 26,
   "metadata": {},
   "outputs": [
    {
     "data": {
      "text/plain": [
       "['+', ['*', [3, None, None], [5, None, None]], [2, None, None]]"
      ]
     },
     "execution_count": 26,
     "metadata": {},
     "output_type": "execute_result"
    }
   ],
   "source": [
    "t"
   ]
  },
  {
   "cell_type": "code",
   "execution_count": 27,
   "metadata": {},
   "outputs": [
    {
     "data": {
      "text/plain": [
       "17"
      ]
     },
     "execution_count": 27,
     "metadata": {},
     "output_type": "execute_result"
    }
   ],
   "source": [
    "calc(t)"
   ]
  },
  {
   "cell_type": "code",
   "execution_count": 28,
   "metadata": {},
   "outputs": [],
   "source": [
    "# クラスを用いた木\n",
    "class Node:\n",
    "    def __init__(self, num, left, right):\n",
    "        self.num = num\n",
    "        self.left = left\n",
    "        self.right = right\n",
    "        \n",
    "    def is_empty(self):\n",
    "        return self == Emptytrey\n",
    "    def make_node(num, left, right):\n",
    "        return Node(tree.num, tree.left, tree.right)\n",
    "\n",
    "    def value(tree):\n",
    "        return tree.value\n",
    "\n",
    "    def left(tree):\n",
    "        return tree.left\n",
    "\n",
    "    def right(tree):\n",
    "        return tree.right"
   ]
  }
 ],
 "metadata": {
  "@webio": {
   "lastCommId": null,
   "lastKernelId": null
  },
  "kernelspec": {
   "display_name": "Python 3",
   "language": "python",
   "name": "python3"
  },
  "language_info": {
   "codemirror_mode": {
    "name": "ipython",
    "version": 3
   },
   "file_extension": ".py",
   "mimetype": "text/x-python",
   "name": "python",
   "nbconvert_exporter": "python",
   "pygments_lexer": "ipython3",
   "version": "3.6.6"
  }
 },
 "nbformat": 4,
 "nbformat_minor": 2
}
