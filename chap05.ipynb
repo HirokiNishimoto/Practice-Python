{
 "cells": [
  {
   "cell_type": "markdown",
   "metadata": {},
   "source": [
    "## 5.6 再帰と反復の応用"
   ]
  },
  {
   "cell_type": "code",
   "execution_count": 442,
   "metadata": {},
   "outputs": [],
   "source": [
    "# 問題** オセロ\n",
    "import numpy as np\n",
    "\n",
    "def place(p,t,x,y):\n",
    "    \n",
    "    for i in range(-1, 2):\n",
    "        for j in range(-1, 2):\n",
    "            # search\n",
    "            if i==0 and j==0:\n",
    "                continue\n",
    "            else:\n",
    "                n_turn=get_n_turn(p, t, x, y, i, j)\n",
    "            #turn\n",
    "            for k in range(n_turn):\n",
    "                p[y+(k+1)*i][x+(k+1)*j] *= -1\n",
    "            if n_turn!=0:\n",
    "                p[y][x] = t\n",
    "    return p\n",
    "\n",
    "def score(p):\n",
    "    return len(np.where(p==1)[0]) - len(np.where(p==-1)[0])\n",
    "\n",
    "def get_n_turn(p, t, x, y, down, right):\n",
    "    n_turn=0\n",
    "    is_reversible = False\n",
    "    while 0+(1-down)/2<=y+n_turn*down<4-(down+1)/2 and 0+(1-right)/2<=x+n_turn*right<4-(right+1)/2:\n",
    "        if p[y+(n_turn+1)*down][x+(n_turn+1)*right] == -1*t:\n",
    "            n_turn += 1\n",
    "        elif p[y+(n_turn+1)*down][x+(n_turn+1)*right] == 0:\n",
    "            n_turn = 0\n",
    "            break\n",
    "        elif p[y+(n_turn+1)*down][x+(n_turn+1)*right] == t:\n",
    "            is_reversible = True\n",
    "            break\n",
    "    if not is_reversible:\n",
    "        n_turn=0\n",
    "    return n_turn\n",
    "\n",
    "def is_puttable(p, t, x, y):\n",
    "    n_turns = []\n",
    "    for i in range(-1, 2):\n",
    "        for j in range(-1, 2):\n",
    "            if i==0 and j==0:\n",
    "                continue\n",
    "            elif p[y][x]!=0:\n",
    "                continue\n",
    "            else:\n",
    "                n_turns.append(get_n_turn(p, t, x, y, i, j))\n",
    "        \n",
    "    if sum(n_turns)==0:\n",
    "        return False\n",
    "    else:\n",
    "        return True\n",
    "\n",
    "def get_candidates(p, t):\n",
    "    candidates = []\n",
    "    for x in range(4):\n",
    "        for y in range(4):\n",
    "            if is_puttable(p, t, x, y):\n",
    "                candidates.append([x, y])\n",
    "    return candidates\n",
    "\n",
    "def check(p, t):\n",
    "    next_t = t*-1\n",
    "    is_finished = False\n",
    "    # 次がt*-1のターン\n",
    "    candidates = get_candidates(p, next_t)\n",
    "    if len(candidates)==0:\n",
    "        # -1*tをおける数\n",
    "        next_t *= -1\n",
    "        candidates = get_candidates(p, next_t)\n",
    "    if len(candidates)==0:\n",
    "        # tも-1*tも置けない\n",
    "        is_finished = True \n",
    "    return next_t, candidates, is_finished\n",
    "    \n",
    "def get_min_max_candidate(p_, t, candidates):\n",
    "    res = []\n",
    "    for candidate in candidates:\n",
    "        p = p_.copy()\n",
    "        p = place(p, t, candidate[0], candidate[1])\n",
    "        res.append([score(p), candidate])\n",
    "    res.sort()\n",
    "    min_candidate = res[0][1]\n",
    "    max_candidate = res[-1][1]\n",
    "    return min_candidate, max_candidate\n",
    "    \n",
    "def minimax_search(p, t, candidates):\n",
    "    # 再帰的にゲームを進行\n",
    "    candidate_min, candidate_max = get_min_max_candidate(p, t, candidates)\n",
    "       \n",
    "    if t==1: #max search \n",
    "        next_p = place(p, t, candidate_max[0], candidate_max[1])\n",
    "\n",
    "    elif t==-1: #min search \n",
    "        next_p = place(p, t, candidate_min[0], candidate_min[1])\n",
    "    \n",
    "    next_t, candidates, is_finished = check(next_p, t)\n",
    "    if is_finished:\n",
    "        return next_p\n",
    "    \n",
    "    return minimax_search(next_p, next_t, candidates)\n",
    "        \n",
    "def othello():\n",
    "    initial_p = np.array([[0,0,0,0],\n",
    "                    [0,-1,1,0],\n",
    "                    [0,1,-1,0],\n",
    "                    [0,0,0,0]])\n",
    "    initial_turn = 1\n",
    "    candidates = get_candidates(initial_p, initial_turn)\n",
    "    return minimax_search(initial_p, initial_turn, candidates)"
   ]
  },
  {
   "cell_type": "code",
   "execution_count": 443,
   "metadata": {
    "scrolled": true
   },
   "outputs": [
    {
     "data": {
      "text/plain": [
       "array([[-1,  1, -1,  1],\n",
       "       [ 1, -1,  1,  1],\n",
       "       [-1,  1, -1,  1],\n",
       "       [ 1,  1,  1, -1]])"
      ]
     },
     "execution_count": 443,
     "metadata": {},
     "output_type": "execute_result"
    }
   ],
   "source": [
    "othello()"
   ]
  },
  {
   "cell_type": "code",
   "execution_count": null,
   "metadata": {},
   "outputs": [],
   "source": []
  }
 ],
 "metadata": {
  "kernelspec": {
   "display_name": "Python 3",
   "language": "python",
   "name": "python3"
  },
  "language_info": {
   "codemirror_mode": {
    "name": "ipython",
    "version": 3
   },
   "file_extension": ".py",
   "mimetype": "text/x-python",
   "name": "python",
   "nbconvert_exporter": "python",
   "pygments_lexer": "ipython3",
   "version": "3.6.6"
  }
 },
 "nbformat": 4,
 "nbformat_minor": 2
}
