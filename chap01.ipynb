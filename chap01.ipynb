{
 "cells": [
  {
   "cell_type": "markdown",
   "metadata": {},
   "source": [
    "## 1.5 整数と繰り返し"
   ]
  },
  {
   "cell_type": "code",
   "execution_count": 1,
   "metadata": {},
   "outputs": [
    {
     "name": "stdout",
     "output_type": "stream",
     "text": [
      "0 1 2 3 4 5 6 7 8 9 10 11 12 13 14 15 16 17 18 19 20 21 22 23 24 25 26 27 28 29 30 31 32 33 34 35 36 37 38 39 40 41 42 43 44 45 46 47 48 49 50 51 52 53 54 55 56 57 58 59 60 61 62 63 64 65 66 67 68 69 70 71 72 73 74 75 76 77 78 79 80 81 82 83 84 85 86 87 88 89 90 91 92 93 94 95 96 97 98 99 "
     ]
    }
   ],
   "source": [
    "# 例題 100\n",
    "for i in range(100):\n",
    "    print(i, end=\" \")"
   ]
  },
  {
   "cell_type": "code",
   "execution_count": 2,
   "metadata": {},
   "outputs": [
    {
     "name": "stdout",
     "output_type": "stream",
     "text": [
      "**********************************************************************\n"
     ]
    }
   ],
   "source": [
    "# 例題 棒\n",
    "def plot_bar(length):\n",
    "    bar = \"\"\n",
    "    for _ in range(length):\n",
    "        bar += \"*\"\n",
    "    print(bar)\n",
    "\n",
    "plot_bar(70)"
   ]
  },
  {
   "cell_type": "code",
   "execution_count": 3,
   "metadata": {},
   "outputs": [
    {
     "name": "stdout",
     "output_type": "stream",
     "text": [
      "****\n",
      "****\n",
      "****\n"
     ]
    }
   ],
   "source": [
    "# 例題 長方形\n",
    "def plot_sqare(col_length, line_length):\n",
    "    line = \"\"\n",
    "    for _ in range(line_length):\n",
    "        line += \"*\"\n",
    "    for _ in range(col_length):\n",
    "        print(line)\n",
    "\n",
    "plot_sqare(3, 4)"
   ]
  },
  {
   "cell_type": "code",
   "execution_count": 4,
   "metadata": {},
   "outputs": [
    {
     "name": "stdout",
     "output_type": "stream",
     "text": [
      "*\n",
      "**\n",
      "***\n"
     ]
    }
   ],
   "source": [
    "# 例題 三角1\n",
    "def plot_triangle(scale):\n",
    "    for i in range(scale):\n",
    "        col = \"\"\n",
    "        for _ in range(i+1):\n",
    "            col += \"*\"\n",
    "        print(col)\n",
    "\n",
    "plot_triangle(3)"
   ]
  },
  {
   "cell_type": "markdown",
   "metadata": {},
   "source": [
    "## 1.6 条件分岐"
   ]
  },
  {
   "cell_type": "code",
   "execution_count": 5,
   "metadata": {},
   "outputs": [
    {
     "name": "stdout",
     "output_type": "stream",
     "text": [
      "0 even\n",
      "1 odd\n",
      "2 even\n",
      "3 odd\n",
      "4 even\n",
      "5 odd\n",
      "6 even\n",
      "7 odd\n",
      "8 even\n",
      "9 odd\n"
     ]
    }
   ],
   "source": [
    "# 例題 偶数奇数\n",
    "def judge_even_or_odd(num):\n",
    "    if num%2==0:\n",
    "        print(num, \"even\")\n",
    "    else:\n",
    "        print(num, \"odd\")\n",
    "\n",
    "for i in range(10):\n",
    "    judge_even_or_odd(i)"
   ]
  },
  {
   "cell_type": "code",
   "execution_count": 6,
   "metadata": {},
   "outputs": [
    {
     "data": {
      "text/html": [
       "<div>\n",
       "<style scoped>\n",
       "    .dataframe tbody tr th:only-of-type {\n",
       "        vertical-align: middle;\n",
       "    }\n",
       "\n",
       "    .dataframe tbody tr th {\n",
       "        vertical-align: top;\n",
       "    }\n",
       "\n",
       "    .dataframe thead th {\n",
       "        text-align: right;\n",
       "    }\n",
       "</style>\n",
       "<table border=\"1\" class=\"dataframe\">\n",
       "  <thead>\n",
       "    <tr style=\"text-align: right;\">\n",
       "      <th></th>\n",
       "      <th>1</th>\n",
       "      <th>2</th>\n",
       "      <th>3</th>\n",
       "      <th>4</th>\n",
       "      <th>5</th>\n",
       "      <th>6</th>\n",
       "      <th>7</th>\n",
       "      <th>8</th>\n",
       "      <th>9</th>\n",
       "    </tr>\n",
       "  </thead>\n",
       "  <tbody>\n",
       "    <tr>\n",
       "      <th>1</th>\n",
       "      <td>1</td>\n",
       "      <td>2</td>\n",
       "      <td>3</td>\n",
       "      <td>4</td>\n",
       "      <td>5</td>\n",
       "      <td>6</td>\n",
       "      <td>7</td>\n",
       "      <td>8</td>\n",
       "      <td>9</td>\n",
       "    </tr>\n",
       "    <tr>\n",
       "      <th>2</th>\n",
       "      <td>2</td>\n",
       "      <td>4</td>\n",
       "      <td>6</td>\n",
       "      <td>8</td>\n",
       "      <td>10</td>\n",
       "      <td>12</td>\n",
       "      <td>14</td>\n",
       "      <td>16</td>\n",
       "      <td>18</td>\n",
       "    </tr>\n",
       "    <tr>\n",
       "      <th>3</th>\n",
       "      <td>3</td>\n",
       "      <td>6</td>\n",
       "      <td>9</td>\n",
       "      <td>12</td>\n",
       "      <td>15</td>\n",
       "      <td>18</td>\n",
       "      <td>21</td>\n",
       "      <td>24</td>\n",
       "      <td>27</td>\n",
       "    </tr>\n",
       "    <tr>\n",
       "      <th>4</th>\n",
       "      <td>4</td>\n",
       "      <td>8</td>\n",
       "      <td>12</td>\n",
       "      <td>16</td>\n",
       "      <td>20</td>\n",
       "      <td>24</td>\n",
       "      <td>28</td>\n",
       "      <td>32</td>\n",
       "      <td>36</td>\n",
       "    </tr>\n",
       "    <tr>\n",
       "      <th>5</th>\n",
       "      <td>5</td>\n",
       "      <td>10</td>\n",
       "      <td>15</td>\n",
       "      <td>20</td>\n",
       "      <td>25</td>\n",
       "      <td>30</td>\n",
       "      <td>35</td>\n",
       "      <td>40</td>\n",
       "      <td>45</td>\n",
       "    </tr>\n",
       "    <tr>\n",
       "      <th>6</th>\n",
       "      <td>6</td>\n",
       "      <td>12</td>\n",
       "      <td>18</td>\n",
       "      <td>24</td>\n",
       "      <td>30</td>\n",
       "      <td>36</td>\n",
       "      <td>42</td>\n",
       "      <td>48</td>\n",
       "      <td>54</td>\n",
       "    </tr>\n",
       "    <tr>\n",
       "      <th>7</th>\n",
       "      <td>7</td>\n",
       "      <td>14</td>\n",
       "      <td>21</td>\n",
       "      <td>28</td>\n",
       "      <td>35</td>\n",
       "      <td>42</td>\n",
       "      <td>49</td>\n",
       "      <td>56</td>\n",
       "      <td>63</td>\n",
       "    </tr>\n",
       "    <tr>\n",
       "      <th>8</th>\n",
       "      <td>8</td>\n",
       "      <td>16</td>\n",
       "      <td>24</td>\n",
       "      <td>32</td>\n",
       "      <td>40</td>\n",
       "      <td>48</td>\n",
       "      <td>56</td>\n",
       "      <td>64</td>\n",
       "      <td>72</td>\n",
       "    </tr>\n",
       "    <tr>\n",
       "      <th>9</th>\n",
       "      <td>9</td>\n",
       "      <td>18</td>\n",
       "      <td>27</td>\n",
       "      <td>36</td>\n",
       "      <td>45</td>\n",
       "      <td>54</td>\n",
       "      <td>63</td>\n",
       "      <td>72</td>\n",
       "      <td>81</td>\n",
       "    </tr>\n",
       "  </tbody>\n",
       "</table>\n",
       "</div>"
      ],
      "text/plain": [
       "   1   2   3   4   5   6   7   8   9\n",
       "1  1   2   3   4   5   6   7   8   9\n",
       "2  2   4   6   8  10  12  14  16  18\n",
       "3  3   6   9  12  15  18  21  24  27\n",
       "4  4   8  12  16  20  24  28  32  36\n",
       "5  5  10  15  20  25  30  35  40  45\n",
       "6  6  12  18  24  30  36  42  48  54\n",
       "7  7  14  21  28  35  42  49  56  63\n",
       "8  8  16  24  32  40  48  56  64  72\n",
       "9  9  18  27  36  45  54  63  72  81"
      ]
     },
     "execution_count": 6,
     "metadata": {},
     "output_type": "execute_result"
    }
   ],
   "source": [
    "# 問題 九九\n",
    "\n",
    "import numpy as np\n",
    "import pandas as pd\n",
    "\n",
    "\n",
    "def p99():\n",
    "    nums = np.arange(1,10)\n",
    "    X = []\n",
    "    for i in range(1, 10):\n",
    "        mults = []\n",
    "        for j in range(1, 10):\n",
    "            mults.append(i*j)\n",
    "        X.append(mults)\n",
    "    return pd.DataFrame(X, index=nums, columns=nums)\n",
    "p99()"
   ]
  },
  {
   "cell_type": "code",
   "execution_count": 7,
   "metadata": {},
   "outputs": [
    {
     "name": "stdout",
     "output_type": "stream",
     "text": [
      "****\n",
      "***\n",
      "**\n",
      "*\n"
     ]
    }
   ],
   "source": [
    "# 問題 三角2\n",
    "def plot_triangle_reverse(scale):\n",
    "    for i in range(scale, 0, -1):\n",
    "        line = \"\"\n",
    "        for _ in range(i):\n",
    "            line += \"*\"\n",
    "        print(line)\n",
    "\n",
    "plot_triangle_reverse(4)"
   ]
  },
  {
   "cell_type": "code",
   "execution_count": 8,
   "metadata": {},
   "outputs": [
    {
     "name": "stdout",
     "output_type": "stream",
     "text": [
      "    *    \n",
      "   ***   \n",
      "  *****  \n",
      " ******* \n",
      "*********\n",
      "    *    \n",
      "    *    \n",
      "    *    \n",
      "    *    \n"
     ]
    }
   ],
   "source": [
    "# 問題 矢印\n",
    "\n",
    "def plot_arrow(N):\n",
    "    for i in range(2*N+1):\n",
    "        if i <= N:\n",
    "            line=\" \"*(N-i) + \"*\"*(2*i+1) + \" \"*(N-i)\n",
    "        else:\n",
    "            line=\" \"*N + \"*\" + \" \"*N\n",
    "        print(line)\n",
    "\n",
    "plot_arrow(4)"
   ]
  },
  {
   "cell_type": "code",
   "execution_count": 9,
   "metadata": {},
   "outputs": [
    {
     "name": "stdout",
     "output_type": "stream",
     "text": [
      "        *                             \n",
      "       ***                            \n",
      "      *****                      *    \n",
      "     *******                    ***   \n",
      "    *********            *     *****  \n",
      "   ***********          ***   ******* \n",
      "        *       *      ***** *********\n",
      "        *      ***    *******    *    \n",
      " *      *     ***** *    *       *    \n",
      "***     *       *  ***   *       *    \n",
      " *      *       *   *    *       *    \n"
     ]
    }
   ],
   "source": [
    "# 森\n",
    "def func(n):\n",
    "    return 2*n+1\n",
    "\n",
    "def plot_forest(nums):\n",
    "    max_num = max(nums)\n",
    "    for i in range(func(max_num)):\n",
    "        line = \"\"\n",
    "        for num in nums:\n",
    "            if i < func(max_num) - func(num):\n",
    "                line += \" \"*func(num)\n",
    "            elif i < func(max_num)- func(num) + num+1:\n",
    "                line +=\\\n",
    "                \" \"*(num-(i-func(max_num)+func(num)))\\\n",
    "                + \\\n",
    "                \"*\"*(2*(i-func(max_num)+func(num))+1)\\\n",
    "                + \\\n",
    "                \" \"*(num-(i-func(max_num)+func(num)))\n",
    "            else:\n",
    "                line += \" \"*num + \"*\" + \" \"*num\n",
    "        print(line)\n",
    "\n",
    "plot_forest([1,5, 2, 1,3,4])"
   ]
  }
 ],
 "metadata": {
  "kernelspec": {
   "display_name": "Python 3",
   "language": "python",
   "name": "python3"
  },
  "language_info": {
   "codemirror_mode": {
    "name": "ipython",
    "version": 3
   },
   "file_extension": ".py",
   "mimetype": "text/x-python",
   "name": "python",
   "nbconvert_exporter": "python",
   "pygments_lexer": "ipython3",
   "version": "3.6.6"
  }
 },
 "nbformat": 4,
 "nbformat_minor": 2
}
