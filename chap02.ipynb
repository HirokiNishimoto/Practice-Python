{
 "cells": [
  {
   "cell_type": "code",
   "execution_count": 13,
   "metadata": {},
   "outputs": [
    {
     "data": {
      "text/plain": [
       "True"
      ]
     },
     "execution_count": 13,
     "metadata": {},
     "output_type": "execute_result"
    }
   ],
   "source": [
    "# 問題　Circle in a Rectangle\n",
    "\n",
    "def in_rectangle(w, h, x, y, r):\n",
    "    if r <= x <= w-r and r <= y <= h-r:\n",
    "        return True\n",
    "    else:\n",
    "        return False\n",
    "\n",
    "in_rectangle(5, 4, 2, 2, 1)"
   ]
  },
  {
   "cell_type": "code",
   "execution_count": 34,
   "metadata": {},
   "outputs": [
    {
     "data": {
      "text/plain": [
       "'13:2:59'"
      ]
     },
     "execution_count": 34,
     "metadata": {},
     "output_type": "execute_result"
    }
   ],
   "source": [
    "# 問題 Watch\n",
    "\n",
    "def watch(s):\n",
    "    seconds = str(s % 60)\n",
    "    minutes = str((s % 3600) // 60)\n",
    "    hours = str(s // 3600)\n",
    "    return hours + \":\" + minutes + \":\" + seconds\n",
    "\n",
    "watch(46979)"
   ]
  },
  {
   "cell_type": "code",
   "execution_count": 42,
   "metadata": {},
   "outputs": [
    {
     "data": {
      "text/plain": [
       "'i18n'"
      ]
     },
     "execution_count": 42,
     "metadata": {},
     "output_type": "execute_result"
    }
   ],
   "source": [
    "# 問題 Abbreviation\n",
    "\n",
    "def abbreviation(strings):\n",
    "    return strings[0] + str(len(strings)-2) + strings[-1]\n",
    "\n",
    "strings = \"internationalization\"\n",
    "abbreviation(strings)"
   ]
  },
  {
   "cell_type": "code",
   "execution_count": 4,
   "metadata": {},
   "outputs": [
    {
     "data": {
      "text/plain": [
       "True"
      ]
     },
     "execution_count": 4,
     "metadata": {},
     "output_type": "execute_result"
    }
   ],
   "source": [
    "# 問題　信用\n",
    "\n",
    "def issueCC(dt, dl, ic):\n",
    "    is_ok = False\n",
    "    \n",
    "    if (.20 <= dt/ic < .28 and dl == 0 and ic >= 3e6) or \\\n",
    "    (dt/ic < .20 and dl == 1 and ic >= 5e6) or \\\n",
    "    (dt/ic < .20 and dl == 0 and ic >= 3e6):\n",
    "        is_ok = True\n",
    "    \n",
    "    if is_ok:\n",
    "        return True\n",
    "    else:\n",
    "        return False\n",
    "    \n",
    "issueCC(.14, 1, 5e6)"
   ]
  },
  {
   "cell_type": "code",
   "execution_count": 12,
   "metadata": {},
   "outputs": [
    {
     "data": {
      "text/plain": [
       "3"
      ]
     },
     "execution_count": 12,
     "metadata": {},
     "output_type": "execute_result"
    }
   ],
   "source": [
    "# 問題 Simple Calculator\n",
    "\n",
    "def calculator(a, op, b):\n",
    "    if op==\"+\":\n",
    "        return a + b\n",
    "    elif op==\"-\":\n",
    "        return a - b\n",
    "    elif op==\"*\":\n",
    "        return a * b\n",
    "    elif op==\"/\":\n",
    "        return a / b\n",
    "    else:\n",
    "        raise ValueError\n",
    "\n",
    "calculator(1, \"+\", 2)"
   ]
  },
  {
   "cell_type": "code",
   "execution_count": 13,
   "metadata": {},
   "outputs": [
    {
     "ename": "IndentationError",
     "evalue": "unexpected indent (<ipython-input-13-dc7f2eb012fa>, line 2)",
     "output_type": "error",
     "traceback": [
      "\u001b[0;36m  File \u001b[0;32m\"<ipython-input-13-dc7f2eb012fa>\"\u001b[0;36m, line \u001b[0;32m2\u001b[0m\n\u001b[0;31m    外側のとても遠くにあっ て交わりがない，\u001b[0m\n\u001b[0m    ^\u001b[0m\n\u001b[0;31mIndentationError\u001b[0m\u001b[0;31m:\u001b[0m unexpected indent\n"
     ]
    }
   ],
   "source": []
  },
  {
   "cell_type": "code",
   "execution_count": null,
   "metadata": {},
   "outputs": [],
   "source": []
  }
 ],
 "metadata": {
  "kernelspec": {
   "display_name": "Python 3",
   "language": "python",
   "name": "python3"
  },
  "language_info": {
   "codemirror_mode": {
    "name": "ipython",
    "version": 3
   },
   "file_extension": ".py",
   "mimetype": "text/x-python",
   "name": "python",
   "nbconvert_exporter": "python",
   "pygments_lexer": "ipython3",
   "version": "3.6.6"
  }
 },
 "nbformat": 4,
 "nbformat_minor": 2
}
