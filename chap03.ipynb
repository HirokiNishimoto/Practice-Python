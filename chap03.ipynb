{
 "cells": [
  {
   "cell_type": "code",
   "execution_count": 1,
   "metadata": {},
   "outputs": [
    {
     "name": "stderr",
     "output_type": "stream",
     "text": [
      ".\n",
      "----------------------------------------------------------------------\n",
      "Ran 1 test in 0.001s\n",
      "\n",
      "OK\n"
     ]
    }
   ],
   "source": [
    "def recreate(a,b):\n",
    "    return a*b\n",
    "\n",
    "if __name__=='__main__':\n",
    "    import unittest\n",
    "    class TestArea(unittest.TestCase):\n",
    "        def test_area(self):\n",
    "            self.assertEqual(recreate(7,5), 35)\n",
    "            self.assertEqual(recreate(10,20), 200)\n",
    "    unittest.main(argv=['first-arg-is-ignored'], exit=False)"
   ]
  },
  {
   "cell_type": "code",
   "execution_count": 2,
   "metadata": {},
   "outputs": [],
   "source": [
    "# 問題　信用\n",
    "\n",
    "def issueCC(dt, dl, ic):\n",
    "    is_ok = False\n",
    "    \n",
    "    if (.20 <= dt/ic < .28 and dl == 0 and ic >= 3e6) or \\\n",
    "    (dt/ic < .20 and dl == 1 and ic >= 5e6) or \\\n",
    "    (dt/ic < .20 and dl == 0 and ic >= 3e6):\n",
    "        is_ok = True\n",
    "    \n",
    "    if is_ok:\n",
    "        return True\n",
    "    else:\n",
    "        return False"
   ]
  },
  {
   "cell_type": "code",
   "execution_count": 3,
   "metadata": {},
   "outputs": [
    {
     "name": "stderr",
     "output_type": "stream",
     "text": [
      ".\n",
      "----------------------------------------------------------------------\n",
      "Ran 1 test in 0.002s\n",
      "\n",
      "OK\n"
     ]
    }
   ],
   "source": [
    "# 例題　issueCC-テストケース実行\n",
    "if __name__=='__main__':\n",
    "    import unittest\n",
    "    class TestArea(unittest.TestCase):\n",
    "        def test_area(self):\n",
    "            self.assertEqual(issueCC(.29,1,2e6), False)\n",
    "            self.assertEqual(issueCC(.25,1,2e6), False)\n",
    "            self.assertEqual(issueCC(.25,0,4e6), True)\n",
    "            self.assertEqual(issueCC(.25,0,6e6), True)\n",
    "            self.assertEqual(issueCC(.15,1,2e6), False)\n",
    "    unittest.main(argv=['first-arg-is-ignored'], exit=False)"
   ]
  },
  {
   "cell_type": "code",
   "execution_count": 4,
   "metadata": {},
   "outputs": [
    {
     "name": "stderr",
     "output_type": "stream",
     "text": [
      ".\n",
      "----------------------------------------------------------------------\n",
      "Ran 1 test in 0.001s\n",
      "\n",
      "OK\n"
     ]
    }
   ],
   "source": [
    "# 問題　Circle in a Rectangle-テストケース作成\n",
    "\n",
    "def in_rectangle(w, h, x, y, r):\n",
    "    if r <= x <= w-r and r <= y <= h-r:\n",
    "        return True\n",
    "    else:\n",
    "        return False\n",
    "\n",
    "# Test\n",
    "if __name__=='__main__':\n",
    "    import unittest\n",
    "    class TestArea(unittest.TestCase):\n",
    "        def test_area(self):\n",
    "            # 円が長方形のなかに完全に収まっていて交わりがない \n",
    "            self.assertTrue(in_rectangle(100, 100, 2, 2, 1))\n",
    "            \n",
    "            # 外側のとても遠くにあっ て交わりがない，\n",
    "\n",
    "            self.assertFalse(in_rectangle(1,1, 5, 5, 1))\n",
    "            \n",
    "            # 長方形の上下左右の各辺で交わる\n",
    "            self.assertFalse(in_rectangle(4, 4, 2, 4, 1))\n",
    "            self.assertFalse(in_rectangle(4, 4, 2, 0, 1))\n",
    "            self.assertFalse(in_rectangle(4, 4, 0, 2, 1))\n",
    "            self.assertFalse(in_rectangle(4, 4, 4, 2, 1))\n",
    "    unittest.main(argv=['first-arg-is-ignored'], exit=False)"
   ]
  },
  {
   "cell_type": "code",
   "execution_count": 5,
   "metadata": {},
   "outputs": [
    {
     "name": "stderr",
     "output_type": "stream",
     "text": [
      ".\n",
      "----------------------------------------------------------------------\n",
      "Ran 1 test in 0.001s\n",
      "\n",
      "OK\n"
     ]
    }
   ],
   "source": [
    "if __name__=='__main__':\n",
    "    import unittest\n",
    "    class TestArea(unittest.TestCase):\n",
    "        def test_area(self):\n",
    "            # 円が長方形のなかに完全に収まっていて交わりがない \n",
    "\n",
    "            self.assertTrue(in_rectangle(100, 100, 2, 2, 1))\n",
    "            \n",
    "            # 外側のとても遠くにあっ て交わりがない，\n",
    "\n",
    "            self.assertFalse(in_rectangle(1,1, 5, 5, 1))\n",
    "            \n",
    "            # 長方形の上下左右の各辺で交わる\n",
    "            self.assertFalse(in_rectangle(4, 4, 2, 4, 1))\n",
    "            self.assertFalse(in_rectangle(4, 4, 2, 0, 1))\n",
    "            self.assertFalse(in_rectangle(4, 4, 0, 2, 1))\n",
    "            self.assertFalse(in_rectangle(4, 4, 4, 2, 1))\n",
    "    unittest.main(argv=['first-arg-is-ignored'], exit=False)"
   ]
  },
  {
   "cell_type": "code",
   "execution_count": 6,
   "metadata": {},
   "outputs": [
    {
     "name": "stderr",
     "output_type": "stream",
     "text": [
      ".\n",
      "----------------------------------------------------------------------\n",
      "Ran 1 test in 0.003s\n",
      "\n",
      "OK\n"
     ]
    }
   ],
   "source": [
    "# 問題 最小と最大を除いた合計\n",
    "\n",
    "def score(a):\n",
    "    if len(a) < 3:\n",
    "        raise ValueError\n",
    "    a.remove(max(a))\n",
    "    a.remove(min(a))\n",
    "    return sum(a)\n",
    "\n",
    "# Test\n",
    "if __name__=='__main__':\n",
    "    import unittest\n",
    "    class TestArea(unittest.TestCase):\n",
    "        def test_area(self):\n",
    "            self.assertEqual(score([1,2,3]),2)\n",
    "            self.assertEqual(score([1,2,3,4]),5)\n",
    "            self.assertEqual(score([1,2,3,4,5]),9)\n",
    "    unittest.main(argv=['first-arg-is-ignored'], exit=False)"
   ]
  },
  {
   "cell_type": "code",
   "execution_count": 7,
   "metadata": {},
   "outputs": [
    {
     "name": "stderr",
     "output_type": "stream",
     "text": [
      ".\n",
      "----------------------------------------------------------------------\n",
      "Ran 1 test in 0.001s\n",
      "\n",
      "OK\n"
     ]
    }
   ],
   "source": [
    "# 問題 各桁の和\n",
    "\n",
    "def digit_sum(n):\n",
    "    nums = []\n",
    "    while n > 10:\n",
    "        # すでにループをi回繰り返したとして、この時点でnumsは１の位~iの位までの和\n",
    "        nums.append(n % 10)\n",
    "        n = n //10\n",
    "    nums.append(n)\n",
    "    return sum(nums)\n",
    "\n",
    "\n",
    "# Test\n",
    "if __name__=='__main__':\n",
    "    import unittest\n",
    "    class TestArea(unittest.TestCase):\n",
    "        def test_area(self):\n",
    "            self.assertEqual(digit_sum(28),10)\n",
    "            self.assertEqual(digit_sum(283),13)\n",
    "            self.assertEqual(digit_sum(2819),20)\n",
    "\n",
    "    unittest.main(argv=['first-arg-is-ignored'], exit=False)"
   ]
  },
  {
   "cell_type": "code",
   "execution_count": 8,
   "metadata": {},
   "outputs": [
    {
     "name": "stderr",
     "output_type": "stream",
     "text": [
      ".\n",
      "----------------------------------------------------------------------\n",
      "Ran 1 test in 0.001s\n",
      "\n",
      "OK\n"
     ]
    }
   ],
   "source": [
    "# 問題 約数列\n",
    "\n",
    "def factor(n):\n",
    "    elements = []\n",
    "    for i in range(1, int(n**0.5)+1):\n",
    "        if n % i == 0:\n",
    "            elements.append(i)\n",
    "            if i != int(n/i):\n",
    "                elements.append(int(n/i))\n",
    "        # この時点でelementsにはi以下またはn/i以上の約数が格納されている\n",
    "    elements.sort()\n",
    "    return elements\n",
    "\n",
    "\n",
    "# Test\n",
    "if __name__=='__main__':\n",
    "    import unittest\n",
    "    class TestArea(unittest.TestCase):\n",
    "        def test_area(self):\n",
    "            self.assertEqual(factor(6),[1,2,3,6])\n",
    "            self.assertEqual(factor(9),[1,3,9])\n",
    "            self.assertEqual(factor(10), [1,2,5,10])\n",
    "    unittest.main(argv=['first-arg-is-ignored'], exit=False)"
   ]
  },
  {
   "cell_type": "code",
   "execution_count": 9,
   "metadata": {},
   "outputs": [
    {
     "name": "stderr",
     "output_type": "stream",
     "text": [
      ".\n",
      "----------------------------------------------------------------------\n",
      "Ran 1 test in 0.001s\n",
      "\n",
      "OK\n"
     ]
    }
   ],
   "source": [
    "# たきぬつきね\n",
    "\n",
    "def decrypt2(s):\n",
    "    n = len(s)\n",
    "    \n",
    "    # nは4の倍数\n",
    "    if n %4 != 0:\n",
    "        raise ValueError\n",
    "        \n",
    "    else:\n",
    "        a = \"\"\n",
    "        b = \"\"\n",
    "        for i in range(int(n/4)):\n",
    "            a += s[4*i:4*i+2]\n",
    "            b += s[4*i+2:4*i+4]\n",
    "            #　この時点であ、ｂの長さはi*2+2\n",
    "    return [a,b]\n",
    "\n",
    "\n",
    "# Test\n",
    "if __name__=='__main__':\n",
    "    import unittest\n",
    "    class TestArea(unittest.TestCase):\n",
    "        def test_area(self):\n",
    "            self.assertEqual(decrypt2(\"ABEFCDGH\"),[\"ABCD\", \"EFGH\"])\n",
    "    unittest.main(argv=['first-arg-is-ignored'], exit=False)"
   ]
  },
  {
   "cell_type": "code",
   "execution_count": 10,
   "metadata": {},
   "outputs": [
    {
     "name": "stderr",
     "output_type": "stream",
     "text": [
      ".\n",
      "----------------------------------------------------------------------\n",
      "Ran 1 test in 0.001s\n",
      "\n",
      "OK\n"
     ]
    }
   ],
   "source": [
    "# 問題 たぬき暗号\n",
    "\n",
    "def erase_ta(x):\n",
    "    return x.replace(\"ta\", \"\")\n",
    "\n",
    "\n",
    "# Test\n",
    "if __name__=='__main__':\n",
    "    import unittest\n",
    "    class TestArea(unittest.TestCase):\n",
    "        def test_area(self):\n",
    "            self.assertEqual(erase_ta(\"car\"),\"car\")\n",
    "            self.assertEqual(erase_ta(\"catar\"), \"car\")\n",
    "            self.assertEqual(erase_ta(\"tactataarta\"), \"car\")\n",
    "    unittest.main(argv=['first-arg-is-ignored'], exit=False)"
   ]
  }
 ],
 "metadata": {
  "kernelspec": {
   "display_name": "Python 3",
   "language": "python",
   "name": "python3"
  },
  "language_info": {
   "codemirror_mode": {
    "name": "ipython",
    "version": 3
   },
   "file_extension": ".py",
   "mimetype": "text/x-python",
   "name": "python",
   "nbconvert_exporter": "python",
   "pygments_lexer": "ipython3",
   "version": "3.6.6"
  }
 },
 "nbformat": 4,
 "nbformat_minor": 2
}
