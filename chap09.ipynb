{
 "cells": [
  {
   "cell_type": "markdown",
   "metadata": {},
   "source": [
    "## 9.2 文字列とバイト列"
   ]
  },
  {
   "cell_type": "code",
   "execution_count": 1,
   "metadata": {},
   "outputs": [],
   "source": [
    "import base64\n",
    "import warnings\n",
    "warnings.filterwarnings('ignore')\n",
    "\n",
    "def myencode(s):\n",
    "    return base64.encodestring(s.encode(\"utf8\"))\\\n",
    ".decode(\"ascii\")[:-1]\n",
    "\n",
    "def mydecode(s):\n",
    "    return base64.decodestring(s.encode(\"ascii\")).decode(\"utf8\")"
   ]
  },
  {
   "cell_type": "code",
   "execution_count": 2,
   "metadata": {},
   "outputs": [
    {
     "name": "stdout",
     "output_type": "stream",
     "text": [
      "44OX44Ot44Kw44Op44Of44Oz44Kw\n"
     ]
    }
   ],
   "source": [
    "s = myencode(\"プログラミング\")\n",
    "print(s)"
   ]
  },
  {
   "cell_type": "code",
   "execution_count": 3,
   "metadata": {},
   "outputs": [
    {
     "name": "stdout",
     "output_type": "stream",
     "text": [
      "プログラミング\n"
     ]
    }
   ],
   "source": [
    "print(mydecode(s))"
   ]
  },
  {
   "cell_type": "markdown",
   "metadata": {},
   "source": [
    "## 9.3 テキストファイルの読み書き"
   ]
  },
  {
   "cell_type": "code",
   "execution_count": 4,
   "metadata": {},
   "outputs": [],
   "source": [
    "# 二次元配列の保存 \n",
    "def write_to_file2d(filename, x,y):\n",
    "    with open(filename, \"w\") as file:\n",
    "        for i, j in zip(x,y):\n",
    "            file.write(f\"{i} {j}\\n\")"
   ]
  },
  {
   "cell_type": "code",
   "execution_count": 5,
   "metadata": {},
   "outputs": [],
   "source": [
    "import numpy as np\n",
    "import math\n",
    "x = np.linspace(0, 2*math.pi, 50)\n",
    "y = np.sin(x)\n",
    "write_to_file2d(\"file-test.txt\", x, y)"
   ]
  }
 ],
 "metadata": {
  "@webio": {
   "lastCommId": null,
   "lastKernelId": null
  },
  "kernelspec": {
   "display_name": "Python 3",
   "language": "python",
   "name": "python3"
  },
  "language_info": {
   "codemirror_mode": {
    "name": "ipython",
    "version": 3
   },
   "file_extension": ".py",
   "mimetype": "text/x-python",
   "name": "python",
   "nbconvert_exporter": "python",
   "pygments_lexer": "ipython3",
   "version": "3.6.6"
  }
 },
 "nbformat": 4,
 "nbformat_minor": 2
}
